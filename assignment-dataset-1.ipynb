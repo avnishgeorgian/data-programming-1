{
 "cells": [
  {
   "cell_type": "code",
   "execution_count": null,
   "id": "c7e45b40",
   "metadata": {},
   "outputs": [],
   "source": [
    "What data type is each of the following?\n",
    "5 \n",
    "5.0\n",
    "5 > 1\n",
    "'5'\n",
    "5 * 2\n",
    "'5' * 2 \n",
    "'5' + '2'\n",
    "5 / 2\n",
    "5 % 2\n",
    "{5, 2, 1}\n",
    "5 == 3\n",
    "Pi (the number)"
   ]
  },
  {
   "cell_type": "code",
   "execution_count": 1,
   "id": "a55f501b",
   "metadata": {},
   "outputs": [
    {
     "name": "stdout",
     "output_type": "stream",
     "text": [
      "Value: 5, Data TypeSystem.Int32\n",
      "Value: 5, Data TypeSystem.Double\n",
      "Value: True, Data TypeSystem.Boolean\n",
      "Value: 5, Data TypeSystem.Char\n",
      "Value: 10, Data TypeSystem.Int32\n",
      "Value: 106, Data TypeSystem.Int32\n",
      "Value: 2, Data TypeSystem.Int32\n",
      "Value: 1, Data TypeSystem.Int32\n",
      "Value: False, Data TypeSystem.Boolean\n",
      "Value: 3.141592653589793, Data TypeSystem.Double\n",
      "System.Int32[]\n"
     ]
    }
   ],
   "source": [
    "object[] dataTypes = new object[] // Creating an array to store data types.\n",
    "{\n",
    "    5, 5.0, 5>1, '5', 5 * 2, '5' * 2, 5/2, 5%2, 5==3, Math.PI\n",
    "};\n",
    "\n",
    "foreach (var item in dataTypes) //For item in \" dataTypes\" array it do the following. \n",
    "{\n",
    "    Console.WriteLine($\"Value: {item}, Data Type{item.GetType()}\"); // print the value and data type. \n",
    "}\n",
    "\n",
    "int[] myArray = {5,2,1}; // Creating an integer array \n",
    "Console.WriteLine(myArray.GetType()); // print the data type in the \"myArray\""
   ]
  },
  {
   "cell_type": "code",
   "execution_count": null,
   "id": "57569c1e",
   "metadata": {},
   "outputs": [],
   "source": [
    "Write (and evaluate) C# expressions that answer these questions:\n",
    "a. How many letters are there in 'Supercalifragilisticexpialidocious'?\n",
    "b. Does 'Supercalifragilisticexpialidocious' contain 'ice' as a substring? \n",
    "c. Which of the following words is the longest: \n",
    "Supercalifragilisticexpialidocious, Honorificabilitudinitatibus, or \n",
    "Bababadalgharaghtakamminarronnkonn? \n",
    "d. Which composer comes first in the dictionary: 'Berlioz', 'Borodin', 'Brian', \n",
    "'Bartok', 'Bellini', 'Buxtehude', 'Bernstein'. Which one comes last?\n"
   ]
  },
  {
   "cell_type": "code",
   "execution_count": 1,
   "id": "474c5059",
   "metadata": {},
   "outputs": [
    {
     "name": "stdout",
     "output_type": "stream",
     "text": [
      "Lenght of string Supercalifragilisticexpialidocious is 34\n",
      "Does Supercalifragilisticexpialidocious contains 'ice': True\n",
      "The longest word is: Supercalifragilisticexpialidocious\n",
      "Alphabetically first composer: Bartok\n"
     ]
    }
   ],
   "source": [
    "// Determine the length of a given string and display it.\n",
    "var string_a = \"Supercalifragilisticexpialidocious\";\n",
    "int length = string_a.Length;\n",
    "Console.WriteLine($\"Lenght of string {string_a} is {length}\");\n",
    "\n",
    "// Check if the string contains the substring 'ice' and print the result.\n",
    "bool contain_ice = string_a.Contains(\"ice\");\n",
    "Console.WriteLine($\"Does {string_a} contains 'ice': {contain_ice}\");\n",
    "\n",
    "// Identify the longest word among three provided strings and show the result.\n",
    "string[] words = {\"Supercalifragilisticexpialidocious\", \"Honorificabilitudinitatibus\", \"Bababadalgharaghtakamminarronnkonn\"};\n",
    "\n",
    "string longest_word = words[0];\n",
    "foreach (string word in words)\n",
    "{\n",
    "    if(word.Length > longest_word.Length)\n",
    "    {\n",
    "        longest_word = word;\n",
    "    }\n",
    "    \n",
    "}\n",
    "\n",
    "Console.WriteLine($\"The longest word is: {longest_word}\");\n",
    "\n",
    "// Sort a list of composer names alphabetically and display the first composer in the sorted list.\n",
    "string[] composers = {\"Berlioz\", \"Borodin\", \"Brian\", \"Bartok\", \"Bellini\", \"Buxtehude\", \"Bernstein\"};\n",
    "Array.Sort(composers);\n",
    "Console.WriteLine($\"Alphabetically first composer: {composers[0]}\");"
   ]
  },
  {
   "cell_type": "code",
   "execution_count": null,
   "id": "f19c090b",
   "metadata": {},
   "outputs": [],
   "source": [
    "Implement function triangleArea(a,b,c) that takes as input the lengths of the 3\n",
    "sides of a triangle and returns the area of the triangle. By Heron's formula, the area \n",
    "of a triangle with side lengths a, b, and c is\n",
    "s(s - a)(s -b)(s -c)\n",
    ", where \n",
    "s = (a+b+c)/2. \n",
    ">>> triangleArea(2,2,2)\n",
    "1.7320508075688772"
   ]
  },
  {
   "cell_type": "code",
   "execution_count": 2,
   "id": "5811be72",
   "metadata": {},
   "outputs": [
    {
     "data": {
      "text/plain": [
       "1.7320508075688772"
      ]
     },
     "execution_count": 2,
     "metadata": {},
     "output_type": "execute_result"
    }
   ],
   "source": [
    "static double triangleArea(double a, double b, double c)\n",
    "{\n",
    "   \n",
    "    double s = (a + b + c) / 2.0;\n",
    "\n",
    "   \n",
    "    double area = Math.Sqrt(s * (s - a) * (s - b) * (s - c));\n",
    "\n",
    "    return area;\n",
    "}\n",
    "\n",
    "\n",
    "triangleArea(2,2,2)"
   ]
  },
  {
   "cell_type": "code",
   "execution_count": null,
   "id": "458ba2cf",
   "metadata": {},
   "outputs": [],
   "source": [
    "Write a program in C# Sharp to separate odd and even integers in separate arrays. \n",
    "Go to the editor\n",
    "Test Data :\n",
    "Input the number of elements to be stored in the array :5\n",
    "Input 5 elements in the array :\n",
    "element - 0 : 25\n",
    "element - 1 : 47\n",
    "element - 2 : 42\n",
    "element - 3 : 56\n",
    "element - 4 : 32\n",
    "Expected Output:\n",
    "The Even elements are:\n",
    "42 56 32\n",
    "The Odd elements are :\n",
    "25 47"
   ]
  },
  {
   "cell_type": "code",
   "execution_count": 3,
   "id": "0f968d8a",
   "metadata": {},
   "outputs": [
    {
     "name": "stdout",
     "output_type": "stream",
     "text": [
      "total number of elements are 5 as follows:\n",
      "25 47 42 56 32 \n",
      "\n",
      "The odd elements are: \n",
      "25 47 \n",
      "The even elements are: \n",
      "42 56 32 "
     ]
    }
   ],
   "source": [
    "int[] numbers = {25, 47, 42, 56, 32};\n",
    "Console.WriteLine($\"total number of elements are {numbers.Length} as follows:\");\n",
    "foreach (int num in numbers)\n",
    "{\n",
    "    Console.Write(num + \" \");\n",
    "}\n",
    "int[] oddArray = new int[numbers.Length];\n",
    "int[] evenArray = new int[numbers.Length];\n",
    "\n",
    "int odd_count = 0;\n",
    "int even_count = 0;\n",
    "\n",
    "foreach (int num in numbers)\n",
    "{\n",
    "    if (num % 2 == 0)\n",
    "    {\n",
    "        evenArray[even_count] = num;\n",
    "        even_count++;\n",
    "    }\n",
    "    \n",
    "    else\n",
    "    {\n",
    "        oddArray[odd_count] = num;\n",
    "        odd_count++;\n",
    "    }\n",
    "}\n",
    "\n",
    "Console.WriteLine(\"\\n\\nThe odd elements are: \");\n",
    "foreach (int odd in oddArray)\n",
    "{\n",
    "    if (odd == 0)\n",
    "    {\n",
    "        continue;\n",
    "    }\n",
    "    Console.Write(odd + \" \");\n",
    "}\n",
    "\n",
    "Console.WriteLine(\"\\nThe even elements are: \");\n",
    "foreach (int even in evenArray)\n",
    "{\n",
    "    if (even == 0)\n",
    "    {\n",
    "        continue;\n",
    "    }\n",
    "    Console.Write(even + \" \");\n",
    "}"
   ]
  },
  {
   "cell_type": "code",
   "execution_count": null,
   "id": "8d91a59e",
   "metadata": {},
   "outputs": [],
   "source": [
    "Question 5 C#\n",
    "a. Write a function inside(x,y,x1,y1,x2,y2) that returns True or False \n",
    "depending on whether the point (x,y) lies in the rectangle with lower left \n",
    "corner (x1,y1) and upper right corner (x2,y2).\n",
    ">>> inside(1,1,0,0,2,3)\n",
    "True\n",
    ">>> inside(-1,-1,0,0,2,3)\n",
    "False\n",
    "b. Use function inside() from part a. to write an expression that tests whether \n",
    "the point (1,1) lies in both of the following rectangles: one with lower left \n",
    "corner (0.3, 0.5) and upper right corner (1.1, 0.7) and the other with lower \n",
    "left corner (0.5, 0.2) and upper right corner (1.1, 2). "
   ]
  },
  {
   "cell_type": "code",
   "execution_count": 4,
   "id": "c9630d4a",
   "metadata": {},
   "outputs": [
    {
     "name": "stdout",
     "output_type": "stream",
     "text": [
      "Is point (1,1) in rectangel |(0,0), (2,3)|  ?\n",
      "True\n",
      "Is point (-1,-1) in rectangel |(0,0), (2,3)|  ?\n",
      "False\n",
      "\n",
      "Checking for (1,1) in rectangles |(0.3,0.5),(1.1,0.7)| and |(0.5,0.2),(1.1,2)|\n",
      "The given point doesn't lie in both triangles\n"
     ]
    }
   ],
   "source": [
    "\n",
    "static bool Inside(double x, double y, double x1, double y1, double x2, double y2)\n",
    "{\n",
    "    return (x1 < x && x < x2 && y1 < y && y < y2);\n",
    "}\n",
    "\n",
    "Console.WriteLine(\"Is point (1,1) in rectangel |(0,0), (2,3)|  ?\");\n",
    "bool a1 = Inside(1,1,0,0,2,3);\n",
    "Console.WriteLine(a1);\n",
    "\n",
    "Console.WriteLine(\"Is point (-1,-1) in rectangel |(0,0), (2,3)|  ?\");\n",
    "bool a2 = Inside(-1,-1,0,0,2,3);\n",
    "Console.WriteLine(a2+\"\\n\");\n",
    "\n",
    "\n",
    "\n",
    "Console.WriteLine(\"Checking for (1,1) in rectangles |(0.3,0.5),(1.1,0.7)| and |(0.5,0.2),(1.1,2)|\");\n",
    "bool rec1 = Inside(1, 1, 0.3, 0.5, 1.1, 0.7);\n",
    "bool rec2 = Inside(1, 1, 0.5, 0.2, 1.1, 2);\n",
    "\n",
    "if (rec1 && rec2)\n",
    "{\n",
    "    Console.WriteLine(\"The given point lies in both triangles\");\n",
    "}\n",
    "\n",
    "else\n",
    "{\n",
    "    Console.WriteLine(\"The given point doesn't lie in both triangles\");\n",
    "}"
   ]
  },
  {
   "cell_type": "code",
   "execution_count": null,
   "id": "cd1a8cae",
   "metadata": {},
   "outputs": [],
   "source": []
  }
 ],
 "metadata": {
  "kernelspec": {
   "display_name": ".NET (C#)",
   "language": "C#",
   "name": ".net-csharp"
  },
  "language_info": {
   "file_extension": ".cs",
   "mimetype": "text/x-csharp",
   "name": "C#",
   "pygments_lexer": "csharp",
   "version": "8.0"
  }
 },
 "nbformat": 4,
 "nbformat_minor": 5
}
